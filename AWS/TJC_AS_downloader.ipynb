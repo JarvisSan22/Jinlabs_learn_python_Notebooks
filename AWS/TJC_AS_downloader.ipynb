{
  "nbformat": 4,
  "nbformat_minor": 0,
  "metadata": {
    "colab": {
      "name": "TJC_AS_downloader.ipynb",
      "provenance": [],
      "authorship_tag": "ABX9TyM2pEiPwW+bxpxiTY8P6Q7G",
      "include_colab_link": true
    },
    "kernelspec": {
      "name": "python3",
      "display_name": "Python 3"
    },
    "language_info": {
      "name": "python"
    }
  },
  "cells": [
    {
      "cell_type": "markdown",
      "metadata": {
        "id": "view-in-github",
        "colab_type": "text"
      },
      "source": [
        "<a href=\"https://colab.research.google.com/github/JarvisSan22/JC_learn_python_Notebooks/blob/main/TJC_AS_downloader.ipynb\" target=\"_parent\"><img src=\"https://colab.research.google.com/assets/colab-badge.svg\" alt=\"Open In Colab\"/></a>"
      ]
    },
    {
      "cell_type": "code",
      "execution_count": null,
      "metadata": {
        "colab": {
          "base_uri": "https://localhost:8080/"
        },
        "id": "13LeRCVK5Sqz",
        "outputId": "e52fee67-54cc-404c-f85e-148e52e10fb9"
      },
      "outputs": [
        {
          "output_type": "stream",
          "name": "stdout",
          "text": [
            "Collecting aws\n",
            "  Downloading aws-0.2.5.tar.gz (5.6 kB)\n",
            "Collecting boto\n",
            "  Downloading boto-2.49.0-py2.py3-none-any.whl (1.4 MB)\n",
            "\u001b[K     |████████████████████████████████| 1.4 MB 34.7 MB/s \n",
            "\u001b[?25hCollecting fabric>=1.6\n",
            "  Downloading fabric-2.6.0-py2.py3-none-any.whl (53 kB)\n",
            "\u001b[K     |████████████████████████████████| 53 kB 1.6 MB/s \n",
            "\u001b[?25hRequirement already satisfied: prettytable>=0.7 in /usr/local/lib/python3.7/dist-packages (from aws) (3.0.0)\n",
            "Collecting pathlib2\n",
            "  Downloading pathlib2-2.3.7.post1-py2.py3-none-any.whl (18 kB)\n",
            "Collecting paramiko>=2.4\n",
            "  Downloading paramiko-2.9.2-py2.py3-none-any.whl (210 kB)\n",
            "\u001b[K     |████████████████████████████████| 210 kB 62.9 MB/s \n",
            "\u001b[?25hCollecting invoke<2.0,>=1.3\n",
            "  Downloading invoke-1.6.0-py3-none-any.whl (212 kB)\n",
            "\u001b[K     |████████████████████████████████| 212 kB 65.3 MB/s \n",
            "\u001b[?25hCollecting bcrypt>=3.1.3\n",
            "  Downloading bcrypt-3.2.0-cp36-abi3-manylinux_2_17_x86_64.manylinux2014_x86_64.manylinux_2_24_x86_64.whl (61 kB)\n",
            "\u001b[K     |████████████████████████████████| 61 kB 451 kB/s \n",
            "\u001b[?25hCollecting pynacl>=1.0.1\n",
            "  Downloading PyNaCl-1.5.0-cp36-abi3-manylinux_2_17_x86_64.manylinux2014_x86_64.manylinux_2_24_x86_64.whl (856 kB)\n",
            "\u001b[K     |████████████████████████████████| 856 kB 59.4 MB/s \n",
            "\u001b[?25hCollecting cryptography>=2.5\n",
            "  Downloading cryptography-36.0.1-cp36-abi3-manylinux_2_24_x86_64.whl (3.6 MB)\n",
            "\u001b[K     |████████████████████████████████| 3.6 MB 41.7 MB/s \n",
            "\u001b[?25hRequirement already satisfied: cffi>=1.1 in /usr/local/lib/python3.7/dist-packages (from bcrypt>=3.1.3->paramiko>=2.4->fabric>=1.6->aws) (1.15.0)\n",
            "Requirement already satisfied: six>=1.4.1 in /usr/local/lib/python3.7/dist-packages (from bcrypt>=3.1.3->paramiko>=2.4->fabric>=1.6->aws) (1.15.0)\n",
            "Requirement already satisfied: pycparser in /usr/local/lib/python3.7/dist-packages (from cffi>=1.1->bcrypt>=3.1.3->paramiko>=2.4->fabric>=1.6->aws) (2.21)\n",
            "Requirement already satisfied: importlib-metadata in /usr/local/lib/python3.7/dist-packages (from prettytable>=0.7->aws) (4.10.1)\n",
            "Requirement already satisfied: wcwidth in /usr/local/lib/python3.7/dist-packages (from prettytable>=0.7->aws) (0.2.5)\n",
            "Requirement already satisfied: zipp>=0.5 in /usr/local/lib/python3.7/dist-packages (from importlib-metadata->prettytable>=0.7->aws) (3.7.0)\n",
            "Requirement already satisfied: typing-extensions>=3.6.4 in /usr/local/lib/python3.7/dist-packages (from importlib-metadata->prettytable>=0.7->aws) (3.10.0.2)\n",
            "Building wheels for collected packages: aws\n",
            "  Building wheel for aws (setup.py) ... \u001b[?25l\u001b[?25hdone\n",
            "  Created wheel for aws: filename=aws-0.2.5-py3-none-any.whl size=7460 sha256=a5d37a18ab62db9cfcb98b8eef40aa89ab3b8d89eb7dc06d16a897bc9184e7a1\n",
            "  Stored in directory: /root/.cache/pip/wheels/02/5b/df/3953a63df2683566c5b309cc268bb86a3cf246b6a93a85bec7\n",
            "Successfully built aws\n",
            "Installing collected packages: pynacl, cryptography, bcrypt, pathlib2, paramiko, invoke, fabric, boto, aws\n",
            "Successfully installed aws-0.2.5 bcrypt-3.2.0 boto-2.49.0 cryptography-36.0.1 fabric-2.6.0 invoke-1.6.0 paramiko-2.9.2 pathlib2-2.3.7.post1 pynacl-1.5.0\n",
            "Collecting awscli\n",
            "  Downloading awscli-1.22.54-py3-none-any.whl (3.8 MB)\n",
            "\u001b[K     |████████████████████████████████| 3.8 MB 30.4 MB/s \n",
            "\u001b[?25hCollecting botocore==1.23.54\n",
            "  Downloading botocore-1.23.54-py3-none-any.whl (8.5 MB)\n",
            "\u001b[K     |████████████████████████████████| 8.5 MB 59.9 MB/s \n",
            "\u001b[?25hRequirement already satisfied: PyYAML<5.5,>=3.10 in /usr/local/lib/python3.7/dist-packages (from awscli) (3.13)\n",
            "Collecting rsa<4.8,>=3.1.2\n",
            "  Downloading rsa-4.7.2-py3-none-any.whl (34 kB)\n",
            "Collecting s3transfer<0.6.0,>=0.5.0\n",
            "  Downloading s3transfer-0.5.1-py3-none-any.whl (79 kB)\n",
            "\u001b[K     |████████████████████████████████| 79 kB 7.8 MB/s \n",
            "\u001b[?25hCollecting colorama<0.4.4,>=0.2.5\n",
            "  Downloading colorama-0.4.3-py2.py3-none-any.whl (15 kB)\n",
            "Collecting docutils<0.16,>=0.10\n",
            "  Downloading docutils-0.15.2-py3-none-any.whl (547 kB)\n",
            "\u001b[K     |████████████████████████████████| 547 kB 44.5 MB/s \n",
            "\u001b[?25hCollecting jmespath<1.0.0,>=0.7.1\n",
            "  Downloading jmespath-0.10.0-py2.py3-none-any.whl (24 kB)\n",
            "Collecting urllib3<1.27,>=1.25.4\n",
            "  Downloading urllib3-1.26.8-py2.py3-none-any.whl (138 kB)\n",
            "\u001b[K     |████████████████████████████████| 138 kB 56.4 MB/s \n",
            "\u001b[?25hRequirement already satisfied: python-dateutil<3.0.0,>=2.1 in /usr/local/lib/python3.7/dist-packages (from botocore==1.23.54->awscli) (2.8.2)\n",
            "Requirement already satisfied: six>=1.5 in /usr/local/lib/python3.7/dist-packages (from python-dateutil<3.0.0,>=2.1->botocore==1.23.54->awscli) (1.15.0)\n",
            "Requirement already satisfied: pyasn1>=0.1.3 in /usr/local/lib/python3.7/dist-packages (from rsa<4.8,>=3.1.2->awscli) (0.4.8)\n",
            "Installing collected packages: urllib3, jmespath, botocore, s3transfer, rsa, docutils, colorama, awscli\n",
            "  Attempting uninstall: urllib3\n",
            "    Found existing installation: urllib3 1.24.3\n",
            "    Uninstalling urllib3-1.24.3:\n",
            "      Successfully uninstalled urllib3-1.24.3\n",
            "  Attempting uninstall: rsa\n",
            "    Found existing installation: rsa 4.8\n",
            "    Uninstalling rsa-4.8:\n",
            "      Successfully uninstalled rsa-4.8\n",
            "  Attempting uninstall: docutils\n",
            "    Found existing installation: docutils 0.17.1\n",
            "    Uninstalling docutils-0.17.1:\n",
            "      Successfully uninstalled docutils-0.17.1\n",
            "\u001b[31mERROR: pip's dependency resolver does not currently take into account all the packages that are installed. This behaviour is the source of the following dependency conflicts.\n",
            "requests 2.23.0 requires urllib3!=1.25.0,!=1.25.1,<1.26,>=1.21.1, but you have urllib3 1.26.8 which is incompatible.\n",
            "datascience 0.10.6 requires folium==0.2.1, but you have folium 0.8.3 which is incompatible.\u001b[0m\n",
            "Successfully installed awscli-1.22.54 botocore-1.23.54 colorama-0.4.3 docutils-0.15.2 jmespath-0.10.0 rsa-4.7.2 s3transfer-0.5.1 urllib3-1.26.8\n",
            "Mounted at /content/drive\n"
          ]
        }
      ],
      "source": [
        "!pip3 install aws \n",
        "!pip3 install awscli \n",
        "from google.colab import drive \n",
        "drive.mount('/content/drive')"
      ]
    },
    {
      "cell_type": "code",
      "source": [
        "text = ''' \n",
        "[default] \n",
        "text = ''' \n",
        "[default] \n",
        "aws_access_key_id = {Access id goes here }\n",
        "aws_secret_access_key = {Access key goes here}\n",
        "region = {AWS region goes here,  example ap-northeast-1}\n",
        "''' \n",
        "path = \"/content/drive/MyDrive/config/awscli.ini\" \n",
        "with open(path, 'w') as f: \n",
        "   f.write(text) \n",
        "!cat /content/drive/My\\ Drive/config/awscli.ini"
      ],
      "metadata": {
        "id": "mbZ6fLyo5V5e"
      },
      "execution_count": null,
      "outputs": []
    },
    {
      "cell_type": "code",
      "source": [
        "import os \n",
        "!export AWS_SHARED_CREDENTIALS_FILE=/content/drive/MyDrive/config/awscli.ini \n",
        "path = \"/content/drive/MyDrive/config/awscli.ini\" \n",
        "os.environ['AWS_SHARED_CREDENTIALS_FILE'] = path \n",
        "print(os.environ['AWS_SHARED_CREDENTIALS_FILE'])\n",
        "\n",
        "Saveloc=\"/content/drive/MyDrive/Colab\\ Notebooks/Datasets/\" #Example saving into Colab Notebooks folder "
      ],
      "metadata": {
        "id": "90a72abB5oc0"
      },
      "execution_count": null,
      "outputs": []
    },
    {
      "cell_type": "markdown",
      "source": [
        " List \"!aws s3 ls s3://bucket\""
      ],
      "metadata": {
        "id": "wQHHiq3o7DjG"
      }
    },
    {
      "cell_type": "code",
      "source": [
        "#Example for a public data set \n",
        "!aws s3 ls s3://spacenet-dataset/spacenet/SN7_buildings/tarballs/"
      ],
      "metadata": {
        "id": "6BfZd1wO5rXg"
      },
      "execution_count": null,
      "outputs": []
    },
    {
      "cell_type": "markdown",
      "source": [
        "Download !aws cp s3;//{file location} . "
      ],
      "metadata": {
        "id": "lkQjMVGk7JKn"
      }
    },
    {
      "cell_type": "code",
      "source": [
        "!aws s3 cp s3://spacenet-dataset/spacenet/SN7_buildings/tarballs/SN7_buildings_train.tar.gz ."
      ],
      "metadata": {
        "id": "ZiZwUq2-5zW_"
      },
      "execution_count": null,
      "outputs": []
    },
    {
      "cell_type": "markdown",
      "source": [
        "Unzip data into drive "
      ],
      "metadata": {
        "id": "CS_pDt_M7SsF"
      }
    },
    {
      "cell_type": "code",
      "source": [
        "#Check save loc\n",
        "!echo  {Saveloc}"
      ],
      "metadata": {
        "colab": {
          "base_uri": "https://localhost:8080/"
        },
        "id": "lR2_mBNB8vjw",
        "outputId": "245f885d-6e80-42a3-fbb0-2e70588df473"
      },
      "execution_count": null,
      "outputs": [
        {
          "output_type": "stream",
          "name": "stdout",
          "text": [
            "{Saveloc}\n"
          ]
        }
      ]
    },
    {
      "cell_type": "code",
      "source": [
        "!unzip  \"/content/Ehime7_ms_skysatcollect_uncalibrated_dn_udm2.zip\" -d  {Saveloc}"
      ],
      "metadata": {
        "colab": {
          "base_uri": "https://localhost:8080/"
        },
        "id": "ABP3B7um6eR5",
        "outputId": "c7e34bd5-a4e9-45f3-facd-4dd051b4bb81"
      },
      "execution_count": null,
      "outputs": [
        {
          "output_type": "stream",
          "name": "stdout",
          "text": [
            "Archive:  /content/Ehime7_ms_skysatcollect_uncalibrated_dn_udm2.zip\n",
            " extracting: /content/drive/MyDrive/Colab Notebooks/Datasets/Skysat/Ehime/files/SkySatCollect/20220211_050231_ssc6_u0001/20220211_050231_ssc6_u0001_metadata.json  \n",
            " extracting: /content/drive/MyDrive/Colab Notebooks/Datasets/Skysat/Ehime/files/SkySatCollect/20220211_050231_ssc6_u0001/uncalibrated_dn_udm2/20220211_050231_ssc6_u0001_analytic_dn.tif  \n",
            " extracting: /content/drive/MyDrive/Colab Notebooks/Datasets/Skysat/Ehime/files/SkySatCollect/20220211_050231_ssc6_u0001/uncalibrated_dn_udm2/20220211_050231_ssc6_u0001_analytic_udm.tif  \n",
            " extracting: /content/drive/MyDrive/Colab Notebooks/Datasets/Skysat/Ehime/files/SkySatCollect/20220211_050231_ssc6_u0001/uncalibrated_dn_udm2/20220211_050231_ssc6_u0001_udm2.tif  \n",
            " extracting: /content/drive/MyDrive/Colab Notebooks/Datasets/Skysat/Ehime/files/SkySatCollect/20220211_050231_ssc6_u0002/20220211_050231_ssc6_u0002_metadata.json  \n",
            " extracting: /content/drive/MyDrive/Colab Notebooks/Datasets/Skysat/Ehime/files/SkySatCollect/20220211_050231_ssc6_u0002/uncalibrated_dn_udm2/20220211_050231_ssc6_u0002_analytic_dn.tif  \n",
            " extracting: /content/drive/MyDrive/Colab Notebooks/Datasets/Skysat/Ehime/files/SkySatCollect/20220211_050231_ssc6_u0002/uncalibrated_dn_udm2/20220211_050231_ssc6_u0002_analytic_udm.tif  \n",
            " extracting: /content/drive/MyDrive/Colab Notebooks/Datasets/Skysat/Ehime/files/SkySatCollect/20220211_050231_ssc6_u0002/uncalibrated_dn_udm2/20220211_050231_ssc6_u0002_udm2.tif  \n",
            " extracting: /content/drive/MyDrive/Colab Notebooks/Datasets/Skysat/Ehime/manifest.json  \n"
          ]
        }
      ]
    },
    {
      "cell_type": "code",
      "source": [
        "#Extract files from tar.gs\n",
        "!tar -xzvf \"/content/SN7_buildings_train.tar.gz\" -C \"/content/drive/MyDrive/Colab Notebooks/Datasets/\"\n"
      ],
      "metadata": {
        "id": "w8-J-bha6YBl"
      },
      "execution_count": null,
      "outputs": []
    },
    {
      "cell_type": "code",
      "source": [
        ""
      ],
      "metadata": {
        "id": "bBpxgGq89dpy"
      },
      "execution_count": null,
      "outputs": []
    }
  ]
}