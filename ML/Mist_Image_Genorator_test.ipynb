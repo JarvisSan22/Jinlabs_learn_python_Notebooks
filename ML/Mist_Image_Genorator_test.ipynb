{
  "nbformat": 4,
  "nbformat_minor": 0,
  "metadata": {
    "colab": {
      "name": "Mist_Image_Genorator_test.ipynb",
      "provenance": [],
      "collapsed_sections": [],
      "authorship_tag": "ABX9TyOa1fMwEMnIruO0HNDtPrES",
      "include_colab_link": true
    },
    "kernelspec": {
      "name": "python3",
      "display_name": "Python 3"
    },
    "language_info": {
      "name": "python"
    }
  },
  "cells": [
    {
      "cell_type": "markdown",
      "metadata": {
        "id": "view-in-github",
        "colab_type": "text"
      },
      "source": [
        "<a href=\"https://colab.research.google.com/github/JarvisSan22/JC_learn_python_Notebooks/blob/main/Mist_Image_Genorator_test.ipynb\" target=\"_parent\"><img src=\"https://colab.research.google.com/assets/colab-badge.svg\" alt=\"Open In Colab\"/></a>"
      ]
    },
    {
      "cell_type": "markdown",
      "metadata": {
        "id": "-M4rxY3wE4ud"
      },
      "source": [
        "# imports "
      ]
    },
    {
      "cell_type": "code",
      "metadata": {
        "id": "PtLzP8poErpx"
      },
      "source": [
        "from random import random\n",
        "from math import ceil\n",
        "\n",
        "import matplotlib.pyplot as plt\n",
        "from tensorflow.keras.layers import Input, concatenate, Dense, Conv2D, MaxPooling2D, Flatten, SimpleRNN\n",
        "from tensorflow.keras.models import Model, Sequential\n",
        "from tensorflow.keras.preprocessing import image \n",
        "from tensorflow.python.keras.utils import np_utils\n",
        "from tensorflow.python.keras.utils.vis_utils import plot_model\n",
        "import numpy as np\n",
        "from keras.datasets import mnist"
      ],
      "execution_count": 2,
      "outputs": []
    },
    {
      "cell_type": "code",
      "metadata": {
        "id": "4ym5dzTpGuR4",
        "colab": {
          "base_uri": "https://localhost:8080/"
        },
        "outputId": "abe5d3c6-d1c2-4c31-e2a7-86abafb88ef8"
      },
      "source": [
        "data=mnist.load_data()[0][0]"
      ],
      "execution_count": 3,
      "outputs": [
        {
          "output_type": "stream",
          "name": "stdout",
          "text": [
            "Downloading data from https://storage.googleapis.com/tensorflow/tf-keras-datasets/mnist.npz\n",
            "11493376/11490434 [==============================] - 0s 0us/step\n",
            "11501568/11490434 [==============================] - 0s 0us/step\n"
          ]
        }
      ]
    },
    {
      "cell_type": "code",
      "metadata": {
        "colab": {
          "base_uri": "https://localhost:8080/"
        },
        "id": "55gW15NsIVhy",
        "outputId": "86fd2257-8902-45f9-dbab-d0b9a94a5119"
      },
      "source": [
        "data.shape"
      ],
      "execution_count": 4,
      "outputs": [
        {
          "output_type": "execute_result",
          "data": {
            "text/plain": [
              "(60000, 28, 28)"
            ]
          },
          "metadata": {},
          "execution_count": 4
        }
      ]
    },
    {
      "cell_type": "code",
      "metadata": {
        "id": "z4TvQLMqE7fX"
      },
      "source": [
        "class ImageIterator(object):\n",
        "  def __init__(self, data, batch_size, random=False):\n",
        "    print(len(data))\n",
        "    self.data = data\n",
        "    self._i=0\n",
        "    self.batch_size= batch_size\n",
        "    self.random=random\n",
        "  def _iter__(self):\n",
        "    return self\n",
        "\n",
        "  def __next__(self):\n",
        "    if self._i == len(self.data):\n",
        "      raise StopIteration()\n",
        "   \n",
        "    if self.random:\n",
        "        np.random.seed=42\n",
        "        random_index=np.random.randint(0,len(self.data),self.batch_size)\n",
        "       # print(random_index)\n",
        "        data_batch=self.data[random_index]\n",
        "        self._i+=self.batch_size\n",
        "\n",
        "    else:\n",
        "      data_batch=self.data[self._i:self._i+self.batch_size]\n",
        "      self._i+=self.batch_size\n",
        "    return data_batch\n",
        "\n"
      ],
      "execution_count": 5,
      "outputs": []
    },
    {
      "cell_type": "code",
      "metadata": {
        "colab": {
          "base_uri": "https://localhost:8080/"
        },
        "id": "jbkM9k7GGmvk",
        "outputId": "f1edc420-3f25-4b0b-ce29-31b565ebacb2"
      },
      "source": [
        "mnist_interator=ImageIterator(data,batch_size=20,random=True)"
      ],
      "execution_count": 6,
      "outputs": [
        {
          "output_type": "stream",
          "name": "stdout",
          "text": [
            "60000\n"
          ]
        }
      ]
    },
    {
      "cell_type": "code",
      "metadata": {
        "colab": {
          "base_uri": "https://localhost:8080/",
          "height": 603
        },
        "id": "efUVJiO0HPg1",
        "outputId": "75aaad30-ed1c-4055-ea8c-758d9633388a"
      },
      "source": [
        "def PlotImages(data,ncols=5):\n",
        "  dims=data.shape\n",
        "  print(dims)\n",
        "  N=dims[0]\n",
        "  aspect_ratio = dims[1] /dims[2]\n",
        "  nrows=N//ncols\n",
        "  if nrows % 2 ==1:\n",
        "    nrows+=1\n",
        "  fig, axs = plt.subplots(ncols=ncols, nrows=nrows, figsize=(2 * ncols * aspect_ratio, 2 * nrows))\n",
        "  for idx in range(0,N):\n",
        "    ax= axs[idx// ncols][idx % ncols]\n",
        "    if len(dims)>3:\n",
        "      if dims[~0]==1:\n",
        "        ax.imshow(data[idx][:,:,0])\n",
        "      else:\n",
        "        ax.imshow(data[idx])\n",
        "    else:\n",
        "      ax.imshow(data[idx])\n",
        "    ax.axis(False)\n",
        "  plt.tight_layout()\n",
        "\n",
        "PlotImages(mnist_interator.__next__()) \n",
        "\n"
      ],
      "execution_count": 26,
      "outputs": [
        {
          "output_type": "stream",
          "name": "stdout",
          "text": [
            "(20, 28, 28)\n"
          ]
        },
        {
          "output_type": "display_data",
          "data": {
            "image/png": "[encoded data removed]",
            "text/plain": [
              "<Figure size 720x576 with 20 Axes>"
            ]
          },
          "metadata": {
            "needs_background": "light"
          }
        }
      ]
    },
    {
      "cell_type": "markdown",
      "metadata": {
        "id": "O2pumG_hXibq"
      },
      "source": [
        "# Keras data generator"
      ]
    },
    {
      "cell_type": "code",
      "metadata": {
        "id": "pO_kEgRhIH1N"
      },
      "source": [
        "from keras.preprocessing.image import ImageDataGenerator\n",
        "datagen = ImageDataGenerator()\n",
        " #Define Generator \n",
        "\n",
        "dims=data.shape\n",
        "train_generator = datagen.flow(  #Create data flow for interation\n",
        "    data.reshape(dims[0],dims[1],dims[2],1),\n",
        "    batch_size=20,\n",
        "    shuffle=True #randomizes data on each epoch \n",
        ")\n",
        "\n"
      ],
      "execution_count": 27,
      "outputs": []
    },
    {
      "cell_type": "code",
      "metadata": {
        "colab": {
          "base_uri": "https://localhost:8080/",
          "height": 603
        },
        "id": "dwLy0X4_Xy4Z",
        "outputId": "0fd98d0b-8e5d-4bb4-fee9-116267dc29d9"
      },
      "source": [
        "PlotImages(train_generator.__next__()) "
      ],
      "execution_count": 28,
      "outputs": [
        {
          "output_type": "stream",
          "name": "stdout",
          "text": [
            "(20, 28, 28, 1)\n"
          ]
        },
        {
          "output_type": "display_data",
          "data": {
            "image/png": "[encoded data removed]",
            "text/plain": [
              "<Figure size 720x576 with 20 Axes>"
            ]
          },
          "metadata": {
            "needs_background": "light"
          }
        }
      ]
    },
    {
      "cell_type": "code",
      "metadata": {
        "id": "d6ZzKW5PZY8N"
      },
      "source": [
        ""
      ],
      "execution_count": null,
      "outputs": []
    },
    {
      "cell_type": "code",
      "metadata": {
        "colab": {
          "base_uri": "https://localhost:8080/"
        },
        "id": "B9K1XELNX7MT",
        "outputId": "a11c7496-02ae-4279-ffa7-a59b61cab660"
      },
      "source": [
        "train_generator.__next__().shape"
      ],
      "execution_count": 29,
      "outputs": [
        {
          "output_type": "execute_result",
          "data": {
            "text/plain": [
              "(20, 28, 28, 1)"
            ]
          },
          "metadata": {},
          "execution_count": 29
        }
      ]
    },
    {
      "cell_type": "code",
      "metadata": {
        "id": "_zsAM9UKX8PU"
      },
      "source": [
        ""
      ],
      "execution_count": null,
      "outputs": []
    }
  ]
}