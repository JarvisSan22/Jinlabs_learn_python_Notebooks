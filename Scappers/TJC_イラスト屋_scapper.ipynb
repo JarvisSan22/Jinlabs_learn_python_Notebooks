{
  "nbformat": 4,
  "nbformat_minor": 0,
  "metadata": {
    "colab": {
      "name": "イラスト屋_scapper.ipynb",
      "provenance": [],
      "authorship_tag": "ABX9TyO0bFVEHXOc7S5nbfBbUWyl",
      "include_colab_link": true
    },
    "kernelspec": {
      "name": "python3",
      "display_name": "Python 3"
    },
    "language_info": {
      "name": "python"
    }
  },
  "cells": [
    {
      "cell_type": "markdown",
      "metadata": {
        "id": "view-in-github",
        "colab_type": "text"
      },
      "source": [
        "<a href=\"https://colab.research.google.com/github/JarvisSan22/JC_learn_python_Notebooks/blob/main/TJC_%E3%82%A4%E3%83%A9%E3%82%B9%E3%83%88%E5%B1%8B_scapper.ipynb\" target=\"_parent\"><img src=\"https://colab.research.google.com/assets/colab-badge.svg\" alt=\"Open In Colab\"/></a>"
      ]
    },
    {
      "cell_type": "code",
      "metadata": {
        "id": "5qK-AddsBv6W"
      },
      "source": [
        "\n",
        "import numpy as np\n",
        "import requests\n",
        "from bs4 import BeautifulSoup\n",
        "from re import sub\n",
        "import matplotlib.pyplot as plt\n",
        "import cv2\n",
        "import os"
      ],
      "execution_count": 1,
      "outputs": []
    },
    {
      "cell_type": "code",
      "metadata": {
        "colab": {
          "base_uri": "https://localhost:8080/"
        },
        "id": "lrkHmk9PK_77",
        "outputId": "1d4396b2-9f9d-428a-a27f-515b7200caf2"
      },
      "source": [
        "from google.colab import drive\n",
        "drive.mount('/content/drive')"
      ],
      "execution_count": 3,
      "outputs": [
        {
          "output_type": "stream",
          "name": "stdout",
          "text": [
            "Mounted at /content/drive\n"
          ]
        }
      ]
    },
    {
      "cell_type": "markdown",
      "metadata": {
        "id": "kNDQdwAxKAPm"
      },
      "source": [
        "#Test Scapper "
      ]
    },
    {
      "cell_type": "markdown",
      "metadata": {
        "id": "GPcKx5bqJ7C9"
      },
      "source": [
        "## Check main page"
      ]
    },
    {
      "cell_type": "code",
      "metadata": {
        "colab": {
          "base_uri": "https://localhost:8080/"
        },
        "id": "deiAHzc_CAel",
        "outputId": "4955dc55-3b35-4398-b837-e34a6d38210a"
      },
      "source": [
        "url=\"https://www.irasutoya.com/\"\n",
        "r= requests.get(url)\n",
        "data=r.text\n",
        "soup=BeautifulSoup(data)\n",
        "boxs=soup.find_all('div', attrs={'class': 'box'})\n",
        "boxs[0]"
      ],
      "execution_count": 2,
      "outputs": [
        {
          "output_type": "execute_result",
          "data": {
            "text/plain": [
              "<div class=\"box\" id=\"post\">\n",
              "<div class=\"boxim\">\n",
              "<script type=\"text/javascript\">\n",
              "//<![CDATA[\n",
              "function bp_thumbnail_resize(image_url,post_title)\n",
              "{\n",
              "var image_size=180;\n",
              "var show_default_thumbnail=true;\n",
              "var default_thumbnail=\"https://3.bp.blogspot.com/-tB0SRYOut2g/Tx-XXdv4FtI/AAAAAAAABJU/rejihf5hfyk/s000/default.png\";\n",
              "if(show_default_thumbnail == true && image_url == \"\") image_url= default_thumbnail;\n",
              "image_tag='<img src=\"'+image_url.replace('/s72-c','/s'+image_size+'-c')+'\" class=\"boxthumb\" alt=\"'+post_title+'\"/>';\n",
              "if(image_url!=\"\") return image_tag; else return \"\";\n",
              "}\n",
              "//]]>\n",
              "</script>\n",
              "<a href=\"https://www.irasutoya.com/2021/11/blog-post_244.html\"><script type=\"text/javascript\">\n",
              "document.write(bp_thumbnail_resize(\"https://1.bp.blogspot.com/-95qSZNI191g/YVaZ_P3hpJI/AAAAAAABfbU/xGRI8Qr2__0EachO3jQ2qznZngP8Ou4GwCNcBGAsYHQ/s72-c/coin_medal_bronze.png\",\"山積みの銅貨のイラスト\"));\n",
              "</script></a>\n",
              "</div>\n",
              "<div class=\"boxmeta clearfix\">\n",
              "<h2>\n",
              "<a href=\"https://www.irasutoya.com/2021/11/blog-post_244.html\">山積みの銅貨のイラスト</a>\n",
              "</h2>\n",
              "<span class=\"item-control blog-admin pid-1201553102\">\n",
              "<a href=\"https://www.blogger.com/post-edit.g?blogID=8749391503645026985&amp;postID=8057808576660364937&amp;from=pencil\" title=\"投稿を編集\">\n",
              "<img alt=\"\" class=\"icon-action\" src=\"https://www.blogger.com/img/icon18_edit_allbkg.gif\"/>\n",
              "</a>\n",
              "</span>\n",
              "<div class=\"scomm\"><a class=\"comment-link\" href=\"https://www.irasutoya.com/2021/11/blog-post_244.html#comment-form\" onclick=\"\">0\n",
              "コメント</a></div>\n",
              "</div>\n",
              "</div>"
            ]
          },
          "metadata": {},
          "execution_count": 2
        }
      ]
    },
    {
      "cell_type": "code",
      "metadata": {
        "colab": {
          "base_uri": "https://localhost:8080/"
        },
        "id": "XHl3lKppCc7g",
        "outputId": "76f76fa7-0439-49a0-f7dc-d47e8f724093"
      },
      "source": [
        "#Image page \n",
        "Ilra_URL=boxs[0].find(\"a\").get(\"href\")\n",
        "print(Ilra_URL)"
      ],
      "execution_count": 4,
      "outputs": [
        {
          "output_type": "stream",
          "name": "stdout",
          "text": [
            "https://www.irasutoya.com/2021/11/blog-post_244.html\n"
          ]
        }
      ]
    },
    {
      "cell_type": "code",
      "metadata": {
        "colab": {
          "base_uri": "https://localhost:8080/"
        },
        "id": "n7hF9FvWCeYP",
        "outputId": "17585553-554f-40d1-a1e6-b363492b60d2"
      },
      "source": [
        "r= requests.get(Ilra_URL)\n",
        "soup_I=BeautifulSoup(r.text)\n",
        "img_html=soup_I.find(\"div\", attrs={'class': \"entry\"} ).find(\"a\")\n",
        "href=img_html.get(\"href\")\n",
        "print(href)\n",
        "alt=img_html.find(\"img\").get(\"alt\")\n",
        "print(alt)"
      ],
      "execution_count": 5,
      "outputs": [
        {
          "output_type": "stream",
          "name": "stdout",
          "text": [
            "https://1.bp.blogspot.com/-95qSZNI191g/YVaZ_P3hpJI/AAAAAAABfbU/xGRI8Qr2__0EachO3jQ2qznZngP8Ou4GwCNcBGAsYHQ/s729/coin_medal_bronze.png\n",
            "山積みの銅貨のイラスト\n"
          ]
        }
      ]
    },
    {
      "cell_type": "code",
      "metadata": {
        "colab": {
          "base_uri": "https://localhost:8080/"
        },
        "id": "P2FB_LX8IMUG",
        "outputId": "727135c0-493b-4a11-f3e2-2d41e3d7426a"
      },
      "source": [
        "r = requests.get(href, allow_redirects=True)\n",
        "open(f'{alt}.png', 'wb').write(r.content)"
      ],
      "execution_count": 6,
      "outputs": [
        {
          "output_type": "execute_result",
          "data": {
            "text/plain": [
              "337570"
            ]
          },
          "metadata": {},
          "execution_count": 6
        }
      ]
    },
    {
      "cell_type": "code",
      "metadata": {
        "colab": {
          "base_uri": "https://localhost:8080/",
          "height": 287
        },
        "id": "LC7TJQ5NI5Iu",
        "outputId": "064020f7-29ac-4b51-bc58-0202283ae1ad"
      },
      "source": [
        "img=cv2.imread(f'{alt}.png')[:,:,::-1]\n",
        "plt.imshow(img)"
      ],
      "execution_count": 7,
      "outputs": [
        {
          "output_type": "execute_result",
          "data": {
            "text/plain": [
              "<matplotlib.image.AxesImage at 0x7fbd8ea5ef50>"
            ]
          },
          "metadata": {},
          "execution_count": 7
        },
        {
          "output_type": "display_data",
          "data": {
            "image/png": "[encoded data removed]",
            "text/plain": [
              "<Figure size 432x288 with 1 Axes>"
            ]
          },
          "metadata": {
            "needs_background": "light"
          }
        }
      ]
    },
    {
      "cell_type": "markdown",
      "metadata": {
        "id": "eFkftv0gP63O"
      },
      "source": [
        "## Next page "
      ]
    },
    {
      "cell_type": "code",
      "metadata": {
        "colab": {
          "base_uri": "https://localhost:8080/"
        },
        "id": "ugnRMW6QP8a4",
        "outputId": "ee111cd1-4d5d-47da-b902-8d8adda50128"
      },
      "source": [
        "bottom_html=soup.find(\"div\", attrs={'id': \"postbottom\"})\n",
        "nextpage_url=bottom_html.find(\"a\").get(\"href\")\n",
        "print(nextpage_url)"
      ],
      "execution_count": 8,
      "outputs": [
        {
          "output_type": "stream",
          "name": "stdout",
          "text": [
            "https://www.irasutoya.com/search?updated-max=2021-10-06T11:00:00%2B09:00&max-results=24\n"
          ]
        }
      ]
    },
    {
      "cell_type": "code",
      "metadata": {
        "colab": {
          "base_uri": "https://localhost:8080/",
          "height": 36
        },
        "id": "Vqy8-FHRP8Uo",
        "outputId": "96a8375c-cb3b-4121-b748-d184cb501fc4"
      },
      "source": [
        "r= requests.get(nextpage_url)\n",
        "soup_np=BeautifulSoup(r.text)\n",
        "soup_np.find(\"span\", attrs={\"id\":\"blog-pager-older-link\"}).find(\"a\").get(\"href\")"
      ],
      "execution_count": 9,
      "outputs": [
        {
          "output_type": "execute_result",
          "data": {
            "application/vnd.google.colaboratory.intrinsic+json": {
              "type": "string"
            },
            "text/plain": [
              "'https://www.irasutoya.com/search?updated-max=2021-09-02T15:00:00%2B09:00&max-results=24&start=24&by-date=false'"
            ]
          },
          "metadata": {},
          "execution_count": 9
        }
      ]
    },
    {
      "cell_type": "markdown",
      "metadata": {
        "id": "WEPceTZUKEG-"
      },
      "source": [
        "# Scapper Functions "
      ]
    },
    {
      "cell_type": "code",
      "metadata": {
        "id": "NbUd8cWYJ0lz"
      },
      "source": [
        "def GetIYImage(img_url,saveloc):\n",
        "  r= requests.get(Ilra_URL)\n",
        "  soup_I=BeautifulSoup(r.text)\n",
        "  img_html=soup_I.find(\"div\", attrs={'class': \"entry\"} ).find(\"a\")\n",
        "  href=img_html.get(\"href\")\n",
        "  #print(href)\n",
        "  alt=img_html.find(\"img\").get(\"alt\")\n",
        "  #print(alt)\n",
        "  r = requests.get(href, allow_redirects=True)\n",
        "  open(f'{saveloc}/{alt}.png', 'wb').write(r.content)\n",
        "\n",
        "def GetImageBoxes(url):\n",
        "  r= requests.get(url)\n",
        "  data=r.text\n",
        "  soup=BeautifulSoup(data)\n",
        "  boxs=soup.find_all('div', attrs={'class': 'box'})\n",
        "  return boxs, soup\n"
      ],
      "execution_count": 10,
      "outputs": []
    },
    {
      "cell_type": "code",
      "metadata": {
        "colab": {
          "base_uri": "https://localhost:8080/"
        },
        "id": "o1zVjD1GKT8e",
        "outputId": "7ea63d5b-86cf-42e0-9a0b-f4467d0ec172"
      },
      "source": [
        "#Scaper first page \n",
        "url=\"https://www.irasutoya.com/\"\n",
        "r= requests.get(url)\n",
        "data=r.text\n",
        "soup=BeautifulSoup(data)\n",
        "boxs=soup.find_all('div', attrs={'class': 'box'})\n",
        "saveloc=\"/content/drive/MyDrive/イラスト屋\"\n",
        "#os.makedirs(saveloc)\n",
        "Firstpage=True\n",
        "\n",
        "totaldownload=100\n",
        "i=0\n",
        "while i <=totaldownload:\n",
        "  \n",
        "  boxs,soup=GetImageBoxes(url)\n",
        "  print(i,url,len(boxs))\n",
        "  #First page \n",
        "  if Firstpage:\n",
        "    \n",
        "      #Update URL \n",
        "      bottom_html=soup.find(\"div\", attrs={'id': \"postbottom\"})\n",
        "      url=bottom_html.find(\"a\").get(\"href\")\n",
        "      Firstpage=False\n",
        "  else:\n",
        "    #Update URL \n",
        "    r= requests.get(url)\n",
        "    soup_np=BeautifulSoup(r.text)\n",
        "    url=soup_np.find(\"span\", attrs={\"id\":\"blog-pager-older-link\"}).find(\"a\").get(\"href\")\n",
        "  for box in boxs:\n",
        "    try:\n",
        "      Ilra_URL=box.find(\"a\").get(\"href\")\n",
        "      GetIYImage(Ilra_URL,saveloc)\n",
        "      i+=1\n",
        "    except:\n",
        "      print(\"Error\")\n",
        "      print(Ilra_URL)"
      ],
      "execution_count": 11,
      "outputs": [
        {
          "output_type": "stream",
          "name": "stdout",
          "text": [
            "0 https://www.irasutoya.com/ 24\n",
            "24 https://www.irasutoya.com/search?updated-max=2021-10-06T11:00:00%2B09:00&max-results=24 24\n",
            "48 https://www.irasutoya.com/search?updated-max=2021-09-02T15:00:00%2B09:00&max-results=24&start=24&by-date=false 24\n",
            "72 https://www.irasutoya.com/search?updated-max=2021-07-26T10:00:00%2B09:00&max-results=24&start=48&by-date=false 24\n",
            "96 https://www.irasutoya.com/search?updated-max=2021-06-21T11:00:00%2B09:00&max-results=24&start=72&by-date=false 21\n"
          ]
        }
      ]
    },
    {
      "cell_type": "code",
      "metadata": {
        "id": "6wT1F6g7Lb4d"
      },
      "source": [
        ""
      ],
      "execution_count": null,
      "outputs": []
    }
  ]
}