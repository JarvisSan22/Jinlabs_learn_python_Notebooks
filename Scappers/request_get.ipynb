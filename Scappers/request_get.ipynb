{
 "cells": [
  {
   "cell_type": "code",
   "execution_count": 3,
   "metadata": {},
   "outputs": [],
   "source": [
    "COLAB=False\n",
    "if COLAB:\n",
    "  from google.colab import drive\n",
    "  drive.mount('/content/drive')\n",
    "  !pip install request\n"
   ]
  },
  {
   "cell_type": "code",
   "execution_count": 6,
   "metadata": {},
   "outputs": [],
   "source": [
    "import requests,json\n",
    "import pandas as pd\n",
    "from tqdm import tqdm "
   ]
  },
  {
   "cell_type": "code",
   "execution_count": 19,
   "metadata": {},
   "outputs": [],
   "source": [
    "r = requests.get(loc+f\"1906.json\", headers=headers)"
   ]
  },
  {
   "cell_type": "code",
   "execution_count": 21,
   "metadata": {},
   "outputs": [
    {
     "data": {
      "text/plain": [
       "{'tokenId': 1906,\n",
       " 'name': 'Kurumi Malenko',\n",
       " 'description': 'This planet is covered in green, yellow, and purple plants - and the tall hills are covered in blue moss! no one even bats an eyelid. It looks inhabited here, but every person is asleep in their homes, in \\'suspended animation\\'. Do you dare wake them? The Goddess would want you to unravel this mystery. \"I\\'m the best!\"',\n",
       " 'image': 'ipfs://QmQaQWRBkttgrk8JtwTF2cpqf4m2K4yc1rAQZZ871mjL7H',\n",
       " 'image_web': 'ipfs://QmQ2bSYpjBxk4iNAdDVBLLK29n8295oaGLTihusuVWLaHm',\n",
       " 'external_url': 'https://galverse.art/token/1906',\n",
       " 'attributes': [{'trait_type': 'Energy Source', 'value': 'Sunshine'},\n",
       "  {'trait_type': 'Time', 'value': 'Present'},\n",
       "  {'trait_type': 'Gal Coordinates', 'value': '+318.462647, +81.800393'},\n",
       "  {'trait_type': 'Character', 'value': 'Pessimist'},\n",
       "  {'trait_type': 'Character', 'value': 'Wild'},\n",
       "  {'trait_type': 'Star Affinity', 'value': 'Red'},\n",
       "  {'trait_type': 'Background', 'value': 'Shining Nova (Ube)'},\n",
       "  {'trait_type': 'Skin Tone', 'value': 'Hinode'},\n",
       "  {'trait_type': 'Clothes', 'value': 'Divining Dress (Starlight Ube)'},\n",
       "  {'trait_type': 'Eyebrows', 'value': 'Long Thin'},\n",
       "  {'trait_type': 'Eyes', 'value': 'Pointed (Matcha Sakura)'},\n",
       "  {'trait_type': 'Hair (Back)', 'value': \"Major's Cut Bob (Mikan)\"},\n",
       "  {'trait_type': 'Hair (Front)', 'value': \"Major's Cut (Mikan)\"},\n",
       "  {'trait_type': 'Head Item', 'value': 'Mortal Mask (Starlight Moonlight)'},\n",
       "  {'trait_type': 'Mouth', 'value': 'Round (Sakura)'},\n",
       "  {'trait_type': 'VTuber Upgrade', 'value': 'Enabled'}],\n",
       " 'items': ['VTuber Upgrade']}"
      ]
     },
     "execution_count": 21,
     "metadata": {},
     "output_type": "execute_result"
    }
   ],
   "source": [
    "r.json()"
   ]
  },
  {
   "cell_type": "code",
   "execution_count": null,
   "metadata": {},
   "outputs": [],
   "source": [
    "loc=\"https://galverse.art/api/metadata/\" \n",
    "main_keys=[\"tokenId\",\"name\",\"description\",\"image_web\",\"external_url\"]\n",
    "\n",
    "galverse_data=[]\n",
    "for i in tqdm(range(8888),total=8888):\n",
    "    headers = {\"content-type\": \"application/json\"}\n",
    "    r = requests.get(loc+f\"{i+1}.json\", headers=headers)\n",
    "    data = r.json()\n",
    "    gal_data={}\n",
    "    for k in main_keys:\n",
    "        gal_data[k]=data[k]\n",
    "    #Trait data \n",
    "    for att in data[\"attributes\"]: #Attributes\n",
    "        trait,val=att[\"trait_type\"],att[\"value\"]\n",
    "        gal_data[\"trait_\"+trait]=val\n",
    "    galverse_data.append(gal_data)\n",
    "df=pd.DataFrame(galverse_data)\n",
    "\n",
    "df.to_csv(\"gal_data.csv\",index=False)"
   ]
  },
  {
   "cell_type": "code",
   "execution_count": null,
   "metadata": {},
   "outputs": [],
   "source": []
  }
 ],
 "metadata": {
  "kernelspec": {
   "display_name": "PT",
   "language": "python",
   "name": "python3"
  },
  "language_info": {
   "codemirror_mode": {
    "name": "ipython",
    "version": 3
   },
   "file_extension": ".py",
   "mimetype": "text/x-python",
   "name": "python",
   "nbconvert_exporter": "python",
   "pygments_lexer": "ipython3",
   "version": "3.10.4"
  },
  "orig_nbformat": 4,
  "vscode": {
   "interpreter": {
    "hash": "8bc2d2d7ab3f4254a2fdcfefaef5a81da456f36f4cc12ad94fffb4b555f0036f"
   }
  }
 },
 "nbformat": 4,
 "nbformat_minor": 2
}
