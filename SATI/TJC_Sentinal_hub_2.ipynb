{
  "nbformat": 4,
  "nbformat_minor": 0,
  "metadata": {
    "colab": {
      "name": "TJC_Sentinal_hub_2.ipynb",
      "provenance": [],
      "collapsed_sections": [
        "no1PvQp5Mda_",
        "_g5dJ3ykjCKQ"
      ]
    },
    "kernelspec": {
      "name": "python3",
      "display_name": "Python 3"
    },
    "language_info": {
      "name": "python"
    }
  },
  "cells": [
    {
      "cell_type": "markdown",
      "metadata": {
        "id": "LpWYZ6vKFJGD"
      },
      "source": [
        "# The Jarvis Code senteinal tuturial 2 \n",
        "\n",
        "Content 内容\n",
        "* Time series download 時系列のダウンロード \n",
        "* Multi band Tiff data　複数のバンドのTiffのデータを扱い\n",
        "* NDVI 　\n",
        "\n"
      ]
    },
    {
      "cell_type": "markdown",
      "metadata": {
        "id": "QSwJwcYOTE7Q"
      },
      "source": [
        "# Imports "
      ]
    },
    {
      "cell_type": "code",
      "metadata": {
        "id": "5URdNyM136J_"
      },
      "source": [
        "!pip3 install sentinelhub"
      ],
      "execution_count": null,
      "outputs": []
    },
    {
      "cell_type": "code",
      "metadata": {
        "id": "KxUw0ZZ4UD_v"
      },
      "source": [
        "%matplotlib inline\n",
        "import numpy as np\n",
        "import numpy.ma as ma\n",
        "import matplotlib.pyplot as plt\n",
        "from datetime import datetime, timedelta\n",
        "from mpl_toolkits.axes_grid1 import make_axes_locatable\n",
        "import os \n",
        "from sentinelhub import MimeType, CRS, BBox, SentinelHubRequest, SentinelHubDownloadClient, \\\n",
        "    DataCollection, bbox_to_dimensions, DownloadRequest"
      ],
      "execution_count": null,
      "outputs": []
    },
    {
      "cell_type": "code",
      "metadata": {
        "id": "AKIkQCn4WCts"
      },
      "source": [
        "from google.colab import drive\n",
        "drive.mount('/content/drive')"
      ],
      "execution_count": null,
      "outputs": []
    },
    {
      "cell_type": "code",
      "metadata": {
        "colab": {
          "base_uri": "https://localhost:8080/"
        },
        "id": "fPXjC-aOUHwH",
        "outputId": "6669cbdf-2daa-4ce6-ae30-2cb9f8f1bbe2"
      },
      "source": [
        "\n",
        "!pip3 install python-dotenv\n",
        "from dotenv import load_dotenv\n",
        "import os \n",
        "load_dotenv(\"/content/drive/MyDrive/Accounts/sentinalhub.env\")\n",
        "\n",
        "from sentinelhub import SHConfig\n",
        "config = SHConfig()\n",
        "config.sh_client_id=os.environ[\"ID\"]  #input(\"OAuth ID \") #\"{OAuth ID }\n",
        "config.sh_client_secret=os.environ[\"Secret\"]#= #input(\"OAuth secret key\") #\"{OAuth secret key}\"\n",
        "if not config.sh_client_id or not config.sh_client_secret:\n",
        "    print(\"Warning! To use Process API, please provide the credentials (OAuth client ID and client secret).\")"
      ],
      "execution_count": null,
      "outputs": [
        {
          "output_type": "stream",
          "name": "stdout",
          "text": [
            "Requirement already satisfied: python-dotenv in /usr/local/lib/python3.7/dist-packages (0.19.0)\n"
          ]
        }
      ]
    },
    {
      "cell_type": "markdown",
      "metadata": {
        "id": "RVbdkeq4U_Ag"
      },
      "source": [
        "Target Area [Geojson ](http://geojson.io/#map=10/42.6542/140.7513) 　nakajima Hokkaidou 中島（なかじま）・北海道"
      ]
    },
    {
      "cell_type": "code",
      "metadata": {
        "colab": {
          "base_uri": "https://localhost:8080/"
        },
        "id": "9XeMvqJ2VZP_",
        "outputId": "7ded6dd4-23c4-4713-97e0-e75972de97df"
      },
      "source": [
        "target_coords = [  140.7582,\n",
        "          42.5540,\n",
        "          140.9573,\n",
        "          42.6904\n",
        "          \n",
        "        ] #WGS84\n",
        "res=10\n",
        "target_bbox= BBox(bbox=target_coords,crs=CRS.WGS84)\n",
        "target_size= bbox_to_dimensions(target_bbox,resolution=res)\n",
        "\n",
        "print(f'Image shape at {res} m resolution: {target_size} pixels')"
      ],
      "execution_count": null,
      "outputs": [
        {
          "output_type": "stream",
          "name": "stdout",
          "text": [
            "Image shape at 10 m resolution: (1635, 1512) pixels\n"
          ]
        }
      ]
    },
    {
      "cell_type": "markdown",
      "metadata": {
        "id": "e2KDviYXgAC6"
      },
      "source": [
        "# Sentianl hub request function "
      ]
    },
    {
      "cell_type": "code",
      "metadata": {
        "id": "hiXgUYYW4XuY"
      },
      "source": [
        ""
      ],
      "execution_count": null,
      "outputs": []
    },
    {
      "cell_type": "code",
      "metadata": {
        "id": "5z-1F7Xdf3Ov"
      },
      "source": [
        "evalscript_true_color=\"\"\"\n",
        " //VERSION=3\n",
        "\n",
        "    function setup() {\n",
        "        return {\n",
        "            input: [{\n",
        "                bands: [\"B02\", \"B03\", \"B04\"]\n",
        "            }],\n",
        "            output: {\n",
        "                bands: 3\n",
        "            }\n",
        "        };\n",
        "    }\n",
        "\n",
        "    function evaluatePixel(sample) {\n",
        "        return [sample.B04, sample.B03, sample.B02];\n",
        "    }\n",
        "\"\"\"\n",
        "evalscript_all_bands = \"\"\"\n",
        "    //VERSION=3\n",
        "    function setup() {\n",
        "        return {\n",
        "            input: [{\n",
        "                bands: [\"B01\",\"B02\",\"B03\",\"B04\",\"B05\",\"B06\",\"B07\",\"B08\",\"B8A\",\"B09\",\"B10\",\"B11\",\"B12\"],\n",
        "                units: \"DN\"\n",
        "            }],\n",
        "            output: {\n",
        "                bands: 13,\n",
        "                sampleType: \"INT16\"\n",
        "            }\n",
        "        };\n",
        "    }\n",
        "\n",
        "    function evaluatePixel(sample) {\n",
        "        return [sample.B01,\n",
        "                sample.B02,\n",
        "                sample.B03,\n",
        "                sample.B04,\n",
        "                sample.B05,\n",
        "                sample.B06,\n",
        "                sample.B07,\n",
        "                sample.B08,\n",
        "                sample.B8A,\n",
        "                sample.B09,\n",
        "                sample.B10,\n",
        "                sample.B11,\n",
        "                sample.B12];\n",
        "    }\n",
        "\"\"\""
      ],
      "execution_count": null,
      "outputs": []
    },
    {
      "cell_type": "code",
      "metadata": {
        "id": "ijw9EU6PwPvN"
      },
      "source": [
        "DataCollection.SENTINEL2_L1C"
      ],
      "execution_count": null,
      "outputs": []
    },
    {
      "cell_type": "code",
      "metadata": {
        "id": "KIH3NBuGf_D_"
      },
      "source": [
        "def get_true_color_request(time_interval,my_bbox,my_size,config=config):\n",
        "    return SentinelHubRequest(\n",
        "        evalscript=evalscript_true_color,\n",
        "        input_data=[\n",
        "            SentinelHubRequest.input_data(\n",
        "                data_collection=DataCollection.SENTINEL2_L1C,\n",
        "                time_interval=time_interval,\n",
        "                mosaicking_order='leastCC'\n",
        "            )\n",
        "        ],\n",
        "        responses=[\n",
        "            SentinelHubRequest.output_response('default', MimeType.PNG)\n",
        "        ],\n",
        "        bbox=my_bbox,\n",
        "        size=my_size,\n",
        "        config=config\n",
        "    )\n",
        "\n",
        "\n",
        "def getband_request(time_interval,my_bbox,my_size,evalscript=evalscript_all_bands,config=config):\n",
        "    return SentinelHubRequest(\n",
        "        evalscript=evalscript,\n",
        "        input_data=[\n",
        "            SentinelHubRequest.input_data(\n",
        "                data_collection=DataCollection.SENTINEL2_L1C,\n",
        "                time_interval=time_interval,\n",
        "                mosaicking_order='leastCC'\n",
        "            )\n",
        "        ],\n",
        "         responses=[\n",
        "        SentinelHubRequest.output_response('default', MimeType.TIFF)\n",
        "    ],\n",
        "        bbox=my_bbox,\n",
        "        size=my_size,\n",
        "        config=config\n",
        "    )"
      ],
      "execution_count": null,
      "outputs": []
    },
    {
      "cell_type": "code",
      "metadata": {
        "id": "dCmjyLiBkIWQ"
      },
      "source": [
        "\n",
        "request_true_color = SentinelHubRequest(\n",
        "    evalscript=evalscript_true_color,\n",
        "    input_data=[\n",
        "        SentinelHubRequest.input_data(\n",
        "            data_collection=DataCollection.SENTINEL2_L1C,\n",
        "            time_interval=('2020-06-1', '2020-06-20'),\n",
        "             mosaicking_order='leastCC' # Least cloud cover 雲量がすくない画像\n",
        "        )\n",
        "    ],\n",
        "    responses=[\n",
        "        SentinelHubRequest.output_response('default', MimeType.PNG)\n",
        "    ],\n",
        "    bbox=target_bbox,\n",
        "    size=target_size,\n",
        "    config=config\n",
        ")\n",
        "test_img=request_true_color.get_data()"
      ],
      "execution_count": null,
      "outputs": []
    },
    {
      "cell_type": "code",
      "metadata": {
        "id": "kVBVY3COth0R"
      },
      "source": [
        "def hist_color_img(img,ax=None,range=None):\n",
        "  if not ax:\n",
        "    fig,ax=plt.subplots(1,1,figsize=(8,6))\n",
        "\n",
        "  _= ax.hist(img[:,:,0].reshape(-1),bins=20,label=\"blue\",color=\"blue\",alpha=0.8,range=range)\n",
        "  _= ax.hist(img[:,:,1].reshape(-1),bins=20,label=\"green\",color=\"green\",alpha=0.8,range=range)\n",
        "  _= ax.hist(img[:,:,2].reshape(-1),bins=20,label=\"red\",color=\"red\",alpha=0.8,range=range)\n",
        "  ax.legend()\n",
        "  ax.grid()\n",
        "\n",
        "\n",
        "def plt_img_hist(img):\n",
        "  fig,axs= plt.subplots(1,2,figsize=(10,6))\n",
        "  axs[0].imshow(img)\n",
        "  axs[0].axis(False)\n",
        "  hist_color_img(img,axs[1])\n",
        "\n",
        "plt_img_hist(test_img[0]*3.5/255)"
      ],
      "execution_count": null,
      "outputs": []
    },
    {
      "cell_type": "markdown",
      "metadata": {
        "id": "QfgXT39KgI_X"
      },
      "source": [
        ""
      ]
    },
    {
      "cell_type": "code",
      "metadata": {
        "id": "kwxuM_1tf-mv"
      },
      "source": [
        "from datetime import datetime\n",
        "from dateutil.relativedelta import relativedelta\n",
        "\n",
        "start = datetime(2020,1,1)\n",
        "M=12\n",
        "slots=[]\n",
        "for m in range(0,M):\n",
        "  end=start+ relativedelta(months=1,days=-1) #Get end of month\n",
        "  slots.append((start.date().isoformat(),end.date().isoformat())) #('2020-02-01', '2020-02-29') save as string \\\n",
        "  start=end+ relativedelta(days=1)  #Change to next month \n",
        "\n",
        "\n",
        "\"\"\"\n",
        "end = datetime.datetime(2020,12,31)\n",
        "years=1\n",
        "n_chunks=13*years#+1\n",
        "tdelta = (end - start) / n_chunks\n",
        "edges = [(start + i*tdelta).date().isoformat() for i in range(n_chunks)]\n",
        "slots = [(edges[i], edges[i+1]) for i in range(len(edges)-1)]\n",
        "\"\"\"\n",
        "\n",
        "print('Monthly time windows:\\n')\n",
        "for slot in slots:\n",
        "    print(slot)"
      ],
      "execution_count": null,
      "outputs": []
    },
    {
      "cell_type": "code",
      "metadata": {
        "id": "79qqp6K9gyDv"
      },
      "source": [
        "# create a list of requests\n",
        "list_of_requests = [get_true_color_request(slot,target_bbox,target_size) for slot in slots]\n",
        "list_of_requests = [request.download_list[0] for request in list_of_requests]\n",
        "# download data with multiple threads\n",
        "images = SentinelHubDownloadClient(config=config).download(list_of_requests, max_threads=5)"
      ],
      "execution_count": null,
      "outputs": []
    },
    {
      "cell_type": "code",
      "metadata": {
        "id": "QeTK_t1Sg4g1"
      },
      "source": [
        "images=np.array(images)\n",
        "print(images.shape)"
      ],
      "execution_count": null,
      "outputs": []
    },
    {
      "cell_type": "code",
      "metadata": {
        "colab": {
          "base_uri": "https://localhost:8080/"
        },
        "id": "YfHyyz1f81oI",
        "outputId": "e0209444-4b78-43df-9c53-2f25aa9620d4"
      },
      "source": [
        ""
      ],
      "execution_count": null,
      "outputs": [
        {
          "output_type": "execute_result",
          "data": {
            "text/plain": [
              "1"
            ]
          },
          "metadata": {},
          "execution_count": 55
        }
      ]
    },
    {
      "cell_type": "code",
      "metadata": {
        "id": "U4LaVDH6v8aW"
      },
      "source": [
        "\n",
        "def Sat_timeplot(images,my_size,slots,factor=1,ncols=3,bandlist=None):\n",
        "    #多い画像数があると、サイズが調整しにくくなる。枚量を対応するために「aspect_ratio」というサイズの割合を使用します。\n",
        "    aspect_ratio = my_size[1] / my_size[2]\n",
        "    print(aspect_ratio)\n",
        "    L=len(images)\n",
        "    #列の数から行の数を設定\n",
        "    nrows=L//ncols \n",
        "    if nrows % 2==1:\n",
        "      nrows+=1\n",
        "      #Figureを作成して、ncols,nrowsの部分の分かる\n",
        "    fig, axs = plt.subplots(ncols=ncols, nrows=nrows, figsize=(5 * ncols * aspect_ratio, 5 * nrows))\n",
        "    print(np.shape(axs))\n",
        "      #それぞれの画像をロープして、プロットします               \n",
        "    for idx in range(0,L):\n",
        "        ax = axs[idx // ncols][idx % ncols] #plot in rows and cols \n",
        "        if bandlist: #Multio band option  #色のバンドの順番を変更する機能\n",
        "          ax.imshow(images[idx][:,:,bandlist]*factor)\n",
        "        else: \n",
        "          ax.imshow(images[idx] * factor)\n",
        "        ax.axis(False)\n",
        "          #日付を題名のように表示する\n",
        "        ax.set_title(f'{slots[idx][0]}  -  {slots[idx][1]}', fontsize=10)\n",
        "    plt.tight_layout()\n"
      ],
      "execution_count": null,
      "outputs": []
    },
    {
      "cell_type": "code",
      "metadata": {
        "id": "hNYaEUVG-qf6"
      },
      "source": [
        "Sat_timeplot(images,images.shape,slots,factor=3.5/255)"
      ],
      "execution_count": null,
      "outputs": []
    },
    {
      "cell_type": "code",
      "metadata": {
        "id": "UQEWSl6jxp-O"
      },
      "source": [
        "\n",
        "list_of_requests = [getband_request(slot,target_bbox,target_size) for slot in slots]\n",
        "list_of_requests = [request.download_list[0] for request in list_of_requests]\n",
        "# download data with multiple threads\n",
        "band_images = SentinelHubDownloadClient(config=config).download(list_of_requests, max_threads=5)\n",
        "band_images= np.array(band_images)"
      ],
      "execution_count": null,
      "outputs": []
    },
    {
      "cell_type": "code",
      "metadata": {
        "id": "j9sryOKp-xOP"
      },
      "source": [
        "\n",
        "\n",
        "def hist_band_img(img,bands,band_names,ax=None,range=None):\n",
        "  if not ax:\n",
        "    fig,ax=plt.subplots(1,1,figsize=(8,6))\n",
        "  for band,name in zip(bands,band_names): \n",
        "    _= ax.hist(img[:,:,band].reshape(-1),bins=20,label=name,alpha=0.8,range=range)\n",
        "  ax.legend()\n",
        "  ax.grid()\n",
        "\n",
        "\n",
        "def plt_band_img_hist(img,bands,band_names):\n",
        "  fig,axs= plt.subplots(1,2,figsize=(10,6))\n",
        "  axs[0].imshow(img[:,:,bands])\n",
        "  axs[0].axis(False)\n",
        "  hist_band_img(img,bands,band_names,axs[1])\n"
      ],
      "execution_count": null,
      "outputs": []
    },
    {
      "cell_type": "code",
      "metadata": {
        "id": "qRILfDIrx4cH"
      },
      "source": [
        "band_images.shape\n",
        "BANDS=['B01', 'B02', 'B03', 'B04', 'B05',\n",
        "       'B06', 'B07', 'B08', 'B8A', 'B09', \n",
        "       'B10', 'B11', 'B12']\n",
        "band_names=[\"B12\",\"B08\",\"B04\"]\n",
        "bands=[12,7,3]\n",
        "plt_band_img_hist(band_images[3]*3.5/1e04,bands,band_names)"
      ],
      "execution_count": null,
      "outputs": []
    },
    {
      "cell_type": "code",
      "metadata": {
        "id": "haUHmYduyuD8"
      },
      "source": [
        "Sat_timeplot(band_images,band_images.shape,slots,factor=3.5/1e04,bandlist=[12,7,3])"
      ],
      "execution_count": null,
      "outputs": []
    },
    {
      "cell_type": "markdown",
      "metadata": {
        "id": "no1PvQp5Mda_"
      },
      "source": [
        "# NVDI"
      ]
    },
    {
      "cell_type": "code",
      "metadata": {
        "id": "qytaIlyZIWTB"
      },
      "source": [
        "def Caculate_NVDI(image,NIR_i=7,RED_i=3):\n",
        "  nir=image[:,:,NIR_i]\n",
        "  red=image[:,:,RED_i]\n",
        "  NVDI=(nir-red)/ (nir+red)\n",
        "  NVDI=np.nan_to_num(NVDI,nan=0)\n",
        "  return NVDI"
      ],
      "execution_count": null,
      "outputs": []
    },
    {
      "cell_type": "code",
      "metadata": {
        "id": "eAF9jkM4MlD3"
      },
      "source": [
        "#band data 正規化\n",
        "from sklearn.preprocessing import MinMaxScaler\n",
        "mmscaler = MinMaxScaler( copy=True)\n",
        "dims=band_images.shape\n",
        "band_n=dims[3]\n",
        "band_images_N=mmscaler.fit_transform(band_images.reshape(-1,band_n)).reshape(dims)\n",
        "print(band_images_N.shape)"
      ],
      "execution_count": null,
      "outputs": []
    },
    {
      "cell_type": "code",
      "metadata": {
        "id": "n_7blHPPVmat"
      },
      "source": [
        "img_NVDI=Caculate_NVDI(band_images_N[6])\n",
        "\n",
        "fig=plt.figure(figsize=(6,6))\n",
        "plt.imshow(img_NVDI)\n",
        "plt.colorbar(label=\"NVDI\")\n",
        "plt.axis(False)"
      ],
      "execution_count": null,
      "outputs": []
    },
    {
      "cell_type": "code",
      "metadata": {
        "id": "25xT0_03Z414"
      },
      "source": [
        "NVDI_images.shape"
      ],
      "execution_count": null,
      "outputs": []
    },
    {
      "cell_type": "code",
      "metadata": {
        "id": "UjdPhdnwYZ2_"
      },
      "source": [
        "NVDI_images=[]\n",
        "for image_N in band_images_N:\n",
        "  img_NVDI=Caculate_NVDI(image_N)\n",
        "  NVDI_images.append(img_NVDI)\n",
        "NVDI_images=np.array(NVDI_images)\n",
        "\n",
        "Sat_timeplot(NVDI_images,NVDI_images.shape,slots)"
      ],
      "execution_count": null,
      "outputs": []
    },
    {
      "cell_type": "markdown",
      "metadata": {
        "id": "_g5dJ3ykjCKQ"
      },
      "source": [
        "#作成中\n",
        "\n",
        "Extraced Area time series\n",
        "抽出した範囲の時系列\n",
        "\n",
        "参考\n",
        "https://karmatnspyphuntsho-tijtech.medium.com/to-compute-satellite-image-statistics-using-pandas-in-google-colab-3fcb30788843"
      ]
    },
    {
      "cell_type": "code",
      "metadata": {
        "colab": {
          "base_uri": "https://localhost:8080/"
        },
        "id": "7F0ILzY9jdkg",
        "outputId": "37290b8b-2afa-4d1c-d9e0-ac8f09b81348"
      },
      "source": [
        "!pip3 install geopandas"
      ],
      "execution_count": null,
      "outputs": [
        {
          "output_type": "stream",
          "name": "stdout",
          "text": [
            "Collecting geopandas\n",
            "  Downloading geopandas-0.9.0-py2.py3-none-any.whl (994 kB)\n",
            "\u001b[K     |████████████████████████████████| 994 kB 5.3 MB/s \n",
            "\u001b[?25hRequirement already satisfied: shapely>=1.6 in /usr/local/lib/python3.7/dist-packages (from geopandas) (1.7.1)\n",
            "Requirement already satisfied: pandas>=0.24.0 in /usr/local/lib/python3.7/dist-packages (from geopandas) (1.1.5)\n",
            "Collecting fiona>=1.8\n",
            "  Downloading Fiona-1.8.20-cp37-cp37m-manylinux1_x86_64.whl (15.4 MB)\n",
            "\u001b[K     |████████████████████████████████| 15.4 MB 39 kB/s \n",
            "\u001b[?25hRequirement already satisfied: pyproj>=2.2.0 in /usr/local/lib/python3.7/dist-packages (from geopandas) (3.2.1)\n",
            "Collecting cligj>=0.5\n",
            "  Downloading cligj-0.7.2-py3-none-any.whl (7.1 kB)\n",
            "Requirement already satisfied: click>=4.0 in /usr/local/lib/python3.7/dist-packages (from fiona>=1.8->geopandas) (7.1.2)\n",
            "Requirement already satisfied: six>=1.7 in /usr/local/lib/python3.7/dist-packages (from fiona>=1.8->geopandas) (1.15.0)\n",
            "Requirement already satisfied: certifi in /usr/local/lib/python3.7/dist-packages (from fiona>=1.8->geopandas) (2021.5.30)\n",
            "Requirement already satisfied: attrs>=17 in /usr/local/lib/python3.7/dist-packages (from fiona>=1.8->geopandas) (21.2.0)\n",
            "Collecting click-plugins>=1.0\n",
            "  Downloading click_plugins-1.1.1-py2.py3-none-any.whl (7.5 kB)\n",
            "Collecting munch\n",
            "  Downloading munch-2.5.0-py2.py3-none-any.whl (10 kB)\n",
            "Requirement already satisfied: setuptools in /usr/local/lib/python3.7/dist-packages (from fiona>=1.8->geopandas) (57.4.0)\n",
            "Requirement already satisfied: python-dateutil>=2.7.3 in /usr/local/lib/python3.7/dist-packages (from pandas>=0.24.0->geopandas) (2.8.2)\n",
            "Requirement already satisfied: numpy>=1.15.4 in /usr/local/lib/python3.7/dist-packages (from pandas>=0.24.0->geopandas) (1.19.5)\n",
            "Requirement already satisfied: pytz>=2017.2 in /usr/local/lib/python3.7/dist-packages (from pandas>=0.24.0->geopandas) (2018.9)\n",
            "Installing collected packages: munch, cligj, click-plugins, fiona, geopandas\n",
            "Successfully installed click-plugins-1.1.1 cligj-0.7.2 fiona-1.8.20 geopandas-0.9.0 munch-2.5.0\n"
          ]
        }
      ]
    },
    {
      "cell_type": "code",
      "metadata": {
        "id": "PTMiFNYxZtaP"
      },
      "source": [
        "import geopandas as gpd\n",
        "gdf=gpd.read_file(\"/content/drive/MyDrive/nakajima_polygon.geojson\")"
      ],
      "execution_count": null,
      "outputs": []
    },
    {
      "cell_type": "code",
      "metadata": {
        "colab": {
          "base_uri": "https://localhost:8080/",
          "height": 122
        },
        "id": "gb_3K47hjavm",
        "outputId": "38cc218b-03b9-4952-a853-b1b4bbe43f5a"
      },
      "source": [
        "gdf.geometry.values[0]"
      ],
      "execution_count": null,
      "outputs": [
        {
          "output_type": "execute_result",
          "data": {
            "text/plain": [
              "<shapely.geometry.polygon.Polygon at 0x7f8eefbb6950>"
            ],
            "image/svg+xml": "<svg xmlns=\"http://www.w3.org/2000/svg\" xmlns:xlink=\"http://www.w3.org/1999/xlink\" width=\"100.0\" height=\"100.0\" viewBox=\"140.83337287902833 42.58948142189879 0.037727737426735075 0.0254437754133221\" preserveAspectRatio=\"xMinYMin meet\"><g transform=\"matrix(1,0,0,-1,0,85.2044066192109)\"><path fill-rule=\"evenodd\" fill=\"#66cc99\" stroke=\"#555555\" stroke-width=\"0.0007545547485347015\" opacity=\"0.6\" d=\"M 140.85451126098633,42.61330679230771 L 140.85322380065918,42.61352787370371 L 140.85176467895505,42.613496290695196 L 140.85017681121826,42.61286462716129 L 140.84796667099,42.61079588424014 L 140.8473014831543,42.61090642949276 L 140.84567070007324,42.61147494483575 L 140.8438682556152,42.611095935183684 L 140.84197998046875,42.609074511421156 L 140.83966255187988,42.60806377493906 L 140.83657264709473,42.60705302205648 L 140.83477020263672,42.60496829244025 L 140.83562850952148,42.601999011637766 L 140.83622932434082,42.60029319058172 L 140.83683013916016,42.59884004691999 L 140.8393406867981,42.597781757926384 L 140.83981275558472,42.5971657306839 L 140.8409070968628,42.59664447210669 L 140.8413791656494,42.595886270029006 L 140.84167957305908,42.59508067021367 L 140.84251642227173,42.594306652738446 L 140.8428168296814,42.59367479461138 L 140.84322452545163,42.59316930349729 L 140.84378242492676,42.59316930349729 L 140.84414720535278,42.593437846162146 L 140.84423303604123,42.59440143090498 L 140.84453344345093,42.594970096877205 L 140.84537029266357,42.59538079685225 L 140.84586381912231,42.595301816298026 L 140.84625005722046,42.59517544720306 L 140.84833145141602,42.59365899807613 L 140.85107803344727,42.59182657281634 L 140.85416793823242,42.59087874550719 L 140.85597038269043,42.591068312122125 L 140.85700035095215,42.59163700850761 L 140.85845947265625,42.59188976079113 L 140.8597469329834,42.592774385711664 L 140.8604335784912,42.5923952622832 L 140.86180686950684,42.59125787816052 L 140.86421012878418,42.59157382027659 L 140.86652755737305,42.59271119863374 L 140.86695671081543,42.594227670822896 L 140.86695671081543,42.59593365792913 L 140.86901664733887,42.597513233979676 L 140.86970329284668,42.60054590775915 L 140.86910247802734,42.60174630035416 L 140.8674716949463,42.603073023157854 L 140.86584091186523,42.6038311377897 L 140.86386680603027,42.604399717709555 L 140.8641242980957,42.6059159054599 L 140.86549758911133,42.60698984945677 L 140.86712837219238,42.60806377493906 L 140.8663558959961,42.609074511421156 L 140.8652400970459,42.6100220619781 L 140.86481094360352,42.61096959812047 L 140.86318016052246,42.61065375434132 L 140.86163520812985,42.61008523150273 L 140.8597469329834,42.61014840096326 L 140.85760116577148,42.61090642949276 L 140.85631370544434,42.612548792991895 L 140.85451126098633,42.61330679230771 z\" /></g></svg>"
          },
          "metadata": {},
          "execution_count": 39
        }
      ]
    },
    {
      "cell_type": "code",
      "metadata": {
        "colab": {
          "base_uri": "https://localhost:8080/",
          "height": 81
        },
        "id": "y2paJpkYkGrQ",
        "outputId": "a63b3d39-94f2-4117-bca2-be50f44a8033"
      },
      "source": [
        "gdf.geometry.bounds"
      ],
      "execution_count": null,
      "outputs": [
        {
          "output_type": "execute_result",
          "data": {
            "text/html": [
              "<div>\n",
              "<style scoped>\n",
              "    .dataframe tbody tr th:only-of-type {\n",
              "        vertical-align: middle;\n",
              "    }\n",
              "\n",
              "    .dataframe tbody tr th {\n",
              "        vertical-align: top;\n",
              "    }\n",
              "\n",
              "    .dataframe thead th {\n",
              "        text-align: right;\n",
              "    }\n",
              "</style>\n",
              "<table border=\"1\" class=\"dataframe\">\n",
              "  <thead>\n",
              "    <tr style=\"text-align: right;\">\n",
              "      <th></th>\n",
              "      <th>minx</th>\n",
              "      <th>miny</th>\n",
              "      <th>maxx</th>\n",
              "      <th>maxy</th>\n",
              "    </tr>\n",
              "  </thead>\n",
              "  <tbody>\n",
              "    <tr>\n",
              "      <th>0</th>\n",
              "      <td>140.83477</td>\n",
              "      <td>42.590879</td>\n",
              "      <td>140.869703</td>\n",
              "      <td>42.613528</td>\n",
              "    </tr>\n",
              "  </tbody>\n",
              "</table>\n",
              "</div>"
            ],
            "text/plain": [
              "        minx       miny        maxx       maxy\n",
              "0  140.83477  42.590879  140.869703  42.613528"
            ]
          },
          "metadata": {},
          "execution_count": 41
        }
      ]
    },
    {
      "cell_type": "code",
      "metadata": {
        "colab": {
          "base_uri": "https://localhost:8080/"
        },
        "id": "riMunaKwj2F_",
        "outputId": "b3ed1775-642b-4584-a565-eae8faf84534"
      },
      "source": [
        "target_size,target_bbox"
      ],
      "execution_count": null,
      "outputs": [
        {
          "output_type": "execute_result",
          "data": {
            "text/plain": [
              "((1635, 1512),\n",
              " BBox(((140.7582, 42.554), (140.9573, 42.6904)), crs=CRS('4326')))"
            ]
          },
          "metadata": {},
          "execution_count": 42
        }
      ]
    },
    {
      "cell_type": "code",
      "metadata": {
        "id": "9cNAryBZkfOg"
      },
      "source": [
        ""
      ],
      "execution_count": null,
      "outputs": []
    }
  ]
}